{
 "cells": [
  {
   "cell_type": "code",
   "execution_count": 1,
   "id": "7960e14b",
   "metadata": {},
   "outputs": [],
   "source": [
    "# Import modules\n",
    "import phyddle.utilities as util\n",
    "import phyddle.simulate as sim\n",
    "import phyddle.format as fmt\n",
    "import phyddle.train as trn\n",
    "import phyddle.estimate as est\n",
    "import phyddle.plot as plt"
   ]
  },
  {
   "cell_type": "code",
   "execution_count": 2,
   "id": "e48624f6",
   "metadata": {},
   "outputs": [
    {
     "name": "stdout",
     "output_type": "stream",
     "text": [
      "\u001b[1;34;m┏━━━━━━━━━━━━━━━━━━━━━━┓\u001b[0m\n",
      "\u001b[1;34;m┃   phyddle   v0.0.6   ┃\u001b[0m\n",
      "\u001b[1;34;m┣━━━━━━━━━━━━━━━━━━━━━━┫\u001b[0m\n"
     ]
    }
   ],
   "source": [
    "# Load pipeline config\n",
    "my_args = util.load_config('config', arg_overwrite=True)\n",
    "step = my_args['step']\n",
    "logger = util.Logger(my_args)\n",
    "logger.save_log('run')"
   ]
  },
  {
   "cell_type": "code",
   "execution_count": 3,
   "id": "20537e66",
   "metadata": {},
   "outputs": [
    {
     "name": "stdout",
     "output_type": "stream",
     "text": [
      "\u001b[1;34;m┃                      ┃\u001b[0m\n",
      "\u001b[1;34;m┗━┳━▪ Simulating... ▪━━┛\u001b[0m\n",
      "\u001b[1;34;m  ┃\u001b[0m\n",
      "\u001b[1;34;m  ┗━━━▪ output: ../workspace/simulate/R_example\u001b[0m\n",
      "\n",
      "\u001b[1;34;m▪ Simulating raw data ...\u001b[0m\n"
     ]
    },
    {
     "name": "stderr",
     "output_type": "stream",
     "text": [
      "Simulating: 100%|█████████████████████████████████████████████████████████████████████████████████████████████████████████████████████████| 1000/1000 [03:30<00:00,  4.76it/s]"
     ]
    },
    {
     "name": "stdout",
     "output_type": "stream",
     "text": [
      "\u001b[1;34;m... done!\u001b[0m\n"
     ]
    },
    {
     "name": "stderr",
     "output_type": "stream",
     "text": [
      "\n"
     ]
    }
   ],
   "source": [
    "# Step 1: simulate training data\n",
    "if 'S' in step:\n",
    "    my_sim = sim.load(my_args)\n",
    "    my_sim.run()"
   ]
  },
  {
   "cell_type": "code",
   "execution_count": 4,
   "id": "779b3801",
   "metadata": {},
   "outputs": [
    {
     "name": "stdout",
     "output_type": "stream",
     "text": [
      "\u001b[1;34;m┃                      ┃\u001b[0m\n",
      "\u001b[1;34;m┗━┳━▪ Formatting... ▪━━┛\u001b[0m\n",
      "\u001b[1;34;m  ┃\u001b[0m\n",
      "\u001b[1;34;m  ┣━━━▪ input:  ../workspace/simulate/R_example\u001b[0m\n",
      "\u001b[1;34;m  ┃\u001b[0m\n",
      "\u001b[1;34;m  ┗━━━▪ output: ../workspace/format/R_example\u001b[0m\n",
      "\n",
      "\u001b[1;34;m▪ Encoding raw data as tensors ...\u001b[0m\n"
     ]
    },
    {
     "name": "stderr",
     "output_type": "stream",
     "text": [
      "Encoding: 100%|███████████████████████████████████████████████████████████████████████████████████████████████████████████████████████████| 1000/1000 [08:00<00:00,  2.08it/s]\n"
     ]
    },
    {
     "name": "stdout",
     "output_type": "stream",
     "text": [
      "\u001b[1;34;m▪ Combining and writing tensors ...\u001b[0m\n",
      "Combining 485 files for tree_type=extant and tree_width=200\n"
     ]
    },
    {
     "name": "stderr",
     "output_type": "stream",
     "text": [
      "Combining: 100%|██████████████████████████████████████████████████████████████████████████████████████████████████████████████████████████| 485/485 [00:00<00:00, 2057.90it/s]\n"
     ]
    },
    {
     "name": "stdout",
     "output_type": "stream",
     "text": [
      "Making train hdf5 dataset: 461 examples for tree width = 200\n"
     ]
    },
    {
     "name": "stderr",
     "output_type": "stream",
     "text": [
      "Combining: 100%|██████████████████████████████████████████████████████████████████████████████████████████████████████████████████████████| 461/461 [00:00<00:00, 2447.80it/s]\n"
     ]
    },
    {
     "name": "stdout",
     "output_type": "stream",
     "text": [
      "Making test hdf5 dataset: 24 examples for tree width = 200\n"
     ]
    },
    {
     "name": "stderr",
     "output_type": "stream",
     "text": [
      "Combining: 100%|████████████████████████████████████████████████████████████████████████████████████████████████████████████████████████████| 24/24 [00:00<00:00, 2035.45it/s]"
     ]
    },
    {
     "name": "stdout",
     "output_type": "stream",
     "text": [
      "\u001b[1;34;m... done!\u001b[0m\n"
     ]
    },
    {
     "name": "stderr",
     "output_type": "stream",
     "text": [
      "\n"
     ]
    }
   ],
   "source": [
    "# Step 2: format simulated data into train and test datasets\n",
    "if 'F' in step:\n",
    "    my_fmt = fmt.load(my_args)\n",
    "    my_fmt.run()"
   ]
  },
  {
   "cell_type": "code",
   "execution_count": 5,
   "id": "6825d7c7",
   "metadata": {},
   "outputs": [
    {
     "name": "stdout",
     "output_type": "stream",
     "text": [
      "\u001b[1;34;m┃                      ┃\u001b[0m\n",
      "\u001b[1;34;m┗━┳━▪ Training...   ▪━━┛\u001b[0m\n",
      "\u001b[1;34;m  ┃\u001b[0m\n",
      "\u001b[1;34;m  ┣━━━▪ input:  ../workspace/format/R_example\u001b[0m\n",
      "\u001b[1;34;m  ┃\u001b[0m\n",
      "\u001b[1;34;m  ┗━━━▪ output: ../workspace/train/R_example\u001b[0m\n",
      "\n",
      "\u001b[1;34;m▪ Loading input ...\u001b[0m\n",
      "\u001b[1;34;m▪ Building network ...\u001b[0m\n",
      "\u001b[1;34;m▪ Training network ...\u001b[0m\n",
      "Epoch 1/20\n",
      "3/3 - 5s - loss: 1.6740 - param_value_loss: 0.9862 - param_lower_loss: 0.3655 - param_upper_loss: 0.3223 - param_value_mae: 0.7626 - param_value_acc: 0.4180 - param_lower_mae: 0.7737 - param_lower_acc: 0.3777 - param_upper_mae: 0.7387 - param_upper_acc: 0.2941 - val_loss: 1.2727 - val_param_value_loss: 0.7728 - val_param_lower_loss: 0.2656 - val_param_upper_loss: 0.2344 - val_param_value_mae: 0.6881 - val_param_value_acc: 0.4565 - val_param_lower_mae: 0.7593 - val_param_lower_acc: 0.3478 - val_param_upper_mae: 0.7097 - val_param_upper_acc: 0.1739 - 5s/epoch - 2s/step\n",
      "Epoch 2/20\n",
      "3/3 - 0s - loss: 1.4407 - param_value_loss: 0.9386 - param_lower_loss: 0.3051 - param_upper_loss: 0.1970 - param_value_mae: 0.7379 - param_value_acc: 0.4923 - param_lower_mae: 0.8740 - param_lower_acc: 0.3994 - param_upper_mae: 0.8480 - param_upper_acc: 0.2941 - val_loss: 1.0621 - val_param_value_loss: 0.7386 - val_param_lower_loss: 0.1936 - val_param_upper_loss: 0.1298 - val_param_value_mae: 0.6694 - val_param_value_acc: 0.5000 - val_param_lower_mae: 1.0114 - val_param_lower_acc: 0.3913 - val_param_upper_mae: 1.0932 - val_param_upper_acc: 0.1739 - 351ms/epoch - 117ms/step\n",
      "Epoch 3/20\n",
      "3/3 - 0s - loss: 1.1994 - param_value_loss: 0.8811 - param_lower_loss: 0.2121 - param_upper_loss: 0.1063 - param_value_mae: 0.7114 - param_value_acc: 0.5201 - param_lower_mae: 1.2409 - param_lower_acc: 0.4520 - param_upper_mae: 1.4556 - param_upper_acc: 0.2941 - val_loss: 0.8726 - val_param_value_loss: 0.6794 - val_param_lower_loss: 0.1154 - val_param_upper_loss: 0.0778 - val_param_value_mae: 0.6430 - val_param_value_acc: 0.5217 - val_param_lower_mae: 1.7915 - val_param_lower_acc: 0.5217 - val_param_upper_mae: 2.1692 - val_param_upper_acc: 0.1739 - 374ms/epoch - 125ms/step\n",
      "Epoch 4/20\n",
      "3/3 - 0s - loss: 1.0739 - param_value_loss: 0.8530 - param_lower_loss: 0.1437 - param_upper_loss: 0.0772 - param_value_mae: 0.6972 - param_value_acc: 0.5511 - param_lower_mae: 2.2799 - param_lower_acc: 0.4551 - param_upper_mae: 2.7379 - param_upper_acc: 0.2941 - val_loss: 0.8570 - val_param_value_loss: 0.6755 - val_param_lower_loss: 0.0990 - val_param_upper_loss: 0.0825 - val_param_value_mae: 0.6386 - val_param_value_acc: 0.5000 - val_param_lower_mae: 3.1734 - val_param_lower_acc: 0.5217 - val_param_upper_mae: 3.3011 - val_param_upper_acc: 0.1739 - 364ms/epoch - 121ms/step\n",
      "Epoch 5/20\n",
      "3/3 - 0s - loss: 1.0329 - param_value_loss: 0.8182 - param_lower_loss: 0.1237 - param_upper_loss: 0.0910 - param_value_mae: 0.6858 - param_value_acc: 0.5449 - param_lower_mae: 3.6128 - param_lower_acc: 0.3839 - param_upper_mae: 3.6349 - param_upper_acc: 0.2941 - val_loss: 0.8819 - val_param_value_loss: 0.6893 - val_param_lower_loss: 0.1112 - val_param_upper_loss: 0.0815 - val_param_value_mae: 0.6583 - val_param_value_acc: 0.5217 - val_param_lower_mae: 3.9245 - val_param_lower_acc: 0.5000 - val_param_upper_mae: 3.2583 - val_param_upper_acc: 0.1739 - 355ms/epoch - 118ms/step\n",
      "Epoch 6/20\n",
      "3/3 - 0s - loss: 1.0084 - param_value_loss: 0.8010 - param_lower_loss: 0.1247 - param_upper_loss: 0.0826 - param_value_mae: 0.6845 - param_value_acc: 0.5294 - param_lower_mae: 4.0962 - param_lower_acc: 0.3498 - param_upper_mae: 3.3046 - param_upper_acc: 0.2941 - val_loss: 0.8133 - val_param_value_loss: 0.6452 - val_param_lower_loss: 0.1059 - val_param_upper_loss: 0.0621 - val_param_value_mae: 0.6081 - val_param_value_acc: 0.5652 - val_param_lower_mae: 3.7539 - val_param_lower_acc: 0.4783 - val_param_upper_mae: 2.4858 - val_param_upper_acc: 0.1739 - 355ms/epoch - 118ms/step\n",
      "Epoch 7/20\n",
      "3/3 - 0s - loss: 0.9494 - param_value_loss: 0.7741 - param_lower_loss: 0.1139 - param_upper_loss: 0.0614 - param_value_mae: 0.6488 - param_value_acc: 0.5666 - param_lower_mae: 3.7431 - param_lower_acc: 0.3746 - param_upper_mae: 2.4540 - param_upper_acc: 0.2941 - val_loss: 0.7723 - val_param_value_loss: 0.6346 - val_param_lower_loss: 0.0923 - val_param_upper_loss: 0.0454 - val_param_value_mae: 0.6118 - val_param_value_acc: 0.5652 - val_param_lower_mae: 3.2238 - val_param_lower_acc: 0.5000 - val_param_upper_mae: 1.7984 - val_param_upper_acc: 0.2174 - 358ms/epoch - 119ms/step\n",
      "Epoch 8/20\n",
      "3/3 - 0s - loss: 0.8931 - param_value_loss: 0.7441 - param_lower_loss: 0.1025 - param_upper_loss: 0.0464 - param_value_mae: 0.6459 - param_value_acc: 0.5666 - param_lower_mae: 3.1462 - param_lower_acc: 0.4489 - param_upper_mae: 1.7892 - param_upper_acc: 0.3870 - val_loss: 0.7476 - val_param_value_loss: 0.6261 - val_param_lower_loss: 0.0817 - val_param_upper_loss: 0.0398 - val_param_value_mae: 0.6103 - val_param_value_acc: 0.4565 - val_param_lower_mae: 2.7080 - val_param_lower_acc: 0.5000 - val_param_upper_mae: 1.3383 - val_param_upper_acc: 0.5000 - 355ms/epoch - 118ms/step\n",
      "Epoch 9/20\n",
      "3/3 - 0s - loss: 0.8681 - param_value_loss: 0.7315 - param_lower_loss: 0.0936 - param_upper_loss: 0.0430 - param_value_mae: 0.6360 - param_value_acc: 0.5666 - param_lower_mae: 2.6389 - param_lower_acc: 0.4737 - param_upper_mae: 1.3712 - param_upper_acc: 0.3715 - val_loss: 0.7324 - val_param_value_loss: 0.6188 - val_param_lower_loss: 0.0748 - val_param_upper_loss: 0.0388 - val_param_value_mae: 0.5994 - val_param_value_acc: 0.5000 - val_param_lower_mae: 2.4274 - val_param_lower_acc: 0.4565 - val_param_upper_mae: 1.1319 - val_param_upper_acc: 0.4783 - 350ms/epoch - 117ms/step\n",
      "Epoch 10/20\n",
      "3/3 - 0s - loss: 0.8476 - param_value_loss: 0.7172 - param_lower_loss: 0.0881 - param_upper_loss: 0.0423 - param_value_mae: 0.6243 - param_value_acc: 0.6037 - param_lower_mae: 2.4190 - param_lower_acc: 0.4365 - param_upper_mae: 1.2144 - param_upper_acc: 0.3498 - val_loss: 0.7240 - val_param_value_loss: 0.6172 - val_param_lower_loss: 0.0727 - val_param_upper_loss: 0.0341 - val_param_value_mae: 0.5991 - val_param_value_acc: 0.5217 - val_param_lower_mae: 2.4123 - val_param_lower_acc: 0.4565 - val_param_upper_mae: 1.1268 - val_param_upper_acc: 0.4783 - 377ms/epoch - 126ms/step\n",
      "Epoch 11/20\n",
      "3/3 - 0s - loss: 0.8210 - param_value_loss: 0.6997 - param_lower_loss: 0.0840 - param_upper_loss: 0.0373 - param_value_mae: 0.6186 - param_value_acc: 0.6130 - param_lower_mae: 2.4384 - param_lower_acc: 0.4396 - param_upper_mae: 1.2418 - param_upper_acc: 0.3498 - val_loss: 0.7277 - val_param_value_loss: 0.6216 - val_param_lower_loss: 0.0747 - val_param_upper_loss: 0.0314 - val_param_value_mae: 0.5999 - val_param_value_acc: 0.4565 - val_param_lower_mae: 2.5623 - val_param_lower_acc: 0.4565 - val_param_upper_mae: 1.2483 - val_param_upper_acc: 0.4783 - 366ms/epoch - 122ms/step\n",
      "Epoch 12/20\n",
      "3/3 - 0s - loss: 0.8037 - param_value_loss: 0.6860 - param_lower_loss: 0.0818 - param_upper_loss: 0.0359 - param_value_mae: 0.6178 - param_value_acc: 0.6068 - param_lower_mae: 2.5636 - param_lower_acc: 0.4582 - param_upper_mae: 1.3692 - param_upper_acc: 0.3498 - val_loss: 0.7177 - val_param_value_loss: 0.6075 - val_param_lower_loss: 0.0764 - val_param_upper_loss: 0.0339 - val_param_value_mae: 0.5908 - val_param_value_acc: 0.4565 - val_param_lower_mae: 2.6281 - val_param_lower_acc: 0.4565 - val_param_upper_mae: 1.3542 - val_param_upper_acc: 0.4783 - 365ms/epoch - 122ms/step\n",
      "Epoch 13/20\n",
      "3/3 - 0s - loss: 0.7804 - param_value_loss: 0.6641 - param_lower_loss: 0.0802 - param_upper_loss: 0.0361 - param_value_mae: 0.6018 - param_value_acc: 0.6254 - param_lower_mae: 2.5578 - param_lower_acc: 0.4768 - param_upper_mae: 1.4265 - param_upper_acc: 0.3498 - val_loss: 0.7331 - val_param_value_loss: 0.6258 - val_param_lower_loss: 0.0746 - val_param_upper_loss: 0.0327 - val_param_value_mae: 0.5907 - val_param_value_acc: 0.5870 - val_param_lower_mae: 2.5217 - val_param_lower_acc: 0.4565 - val_param_upper_mae: 1.3099 - val_param_upper_acc: 0.4783 - 351ms/epoch - 117ms/step\n",
      "Epoch 14/20\n",
      "3/3 - 0s - loss: 0.7711 - param_value_loss: 0.6581 - param_lower_loss: 0.0785 - param_upper_loss: 0.0345 - param_value_mae: 0.5959 - param_value_acc: 0.6223 - param_lower_mae: 2.4378 - param_lower_acc: 0.4768 - param_upper_mae: 1.3522 - param_upper_acc: 0.3529 - val_loss: 0.7007 - val_param_value_loss: 0.5978 - val_param_lower_loss: 0.0723 - val_param_upper_loss: 0.0307 - val_param_value_mae: 0.5777 - val_param_value_acc: 0.4565 - val_param_lower_mae: 2.4648 - val_param_lower_acc: 0.4348 - val_param_upper_mae: 1.2123 - val_param_upper_acc: 0.4783 - 341ms/epoch - 114ms/step\n"
     ]
    },
    {
     "name": "stdout",
     "output_type": "stream",
     "text": [
      "Epoch 15/20\n",
      "3/3 - 0s - loss: 0.7437 - param_value_loss: 0.6317 - param_lower_loss: 0.0785 - param_upper_loss: 0.0334 - param_value_mae: 0.5861 - param_value_acc: 0.6378 - param_lower_mae: 2.3819 - param_lower_acc: 0.4118 - param_upper_mae: 1.2586 - param_upper_acc: 0.3808 - val_loss: 0.6944 - val_param_value_loss: 0.5947 - val_param_lower_loss: 0.0699 - val_param_upper_loss: 0.0298 - val_param_value_mae: 0.5761 - val_param_value_acc: 0.4565 - val_param_lower_mae: 2.4014 - val_param_lower_acc: 0.3696 - val_param_upper_mae: 1.1114 - val_param_upper_acc: 0.5000 - 342ms/epoch - 114ms/step\n",
      "Epoch 16/20\n",
      "3/3 - 0s - loss: 0.7312 - param_value_loss: 0.6204 - param_lower_loss: 0.0775 - param_upper_loss: 0.0334 - param_value_mae: 0.5910 - param_value_acc: 0.6316 - param_lower_mae: 2.3695 - param_lower_acc: 0.4118 - param_upper_mae: 1.1627 - param_upper_acc: 0.4180 - val_loss: 0.6879 - val_param_value_loss: 0.5859 - val_param_lower_loss: 0.0721 - val_param_upper_loss: 0.0298 - val_param_value_mae: 0.5603 - val_param_value_acc: 0.5217 - val_param_lower_mae: 2.5162 - val_param_lower_acc: 0.4565 - val_param_upper_mae: 1.0705 - val_param_upper_acc: 0.4783 - 347ms/epoch - 116ms/step\n",
      "Epoch 17/20\n",
      "3/3 - 0s - loss: 0.7069 - param_value_loss: 0.5984 - param_lower_loss: 0.0760 - param_upper_loss: 0.0325 - param_value_mae: 0.5594 - param_value_acc: 0.6316 - param_lower_mae: 2.4610 - param_lower_acc: 0.4489 - param_upper_mae: 1.1492 - param_upper_acc: 0.4056 - val_loss: 0.6926 - val_param_value_loss: 0.5916 - val_param_lower_loss: 0.0720 - val_param_upper_loss: 0.0289 - val_param_value_mae: 0.5632 - val_param_value_acc: 0.5652 - val_param_lower_mae: 2.5166 - val_param_lower_acc: 0.4565 - val_param_upper_mae: 1.1088 - val_param_upper_acc: 0.4783 - 350ms/epoch - 117ms/step\n",
      "Epoch 18/20\n",
      "3/3 - 0s - loss: 0.7009 - param_value_loss: 0.5938 - param_lower_loss: 0.0751 - param_upper_loss: 0.0319 - param_value_mae: 0.5670 - param_value_acc: 0.6378 - param_lower_mae: 2.4228 - param_lower_acc: 0.4613 - param_upper_mae: 1.1883 - param_upper_acc: 0.3653 - val_loss: 0.6993 - val_param_value_loss: 0.5983 - val_param_lower_loss: 0.0715 - val_param_upper_loss: 0.0295 - val_param_value_mae: 0.5776 - val_param_value_acc: 0.4565 - val_param_lower_mae: 2.4689 - val_param_lower_acc: 0.4565 - val_param_upper_mae: 1.1648 - val_param_upper_acc: 0.4783 - 339ms/epoch - 113ms/step\n",
      "Epoch 19/20\n",
      "3/3 - 0s - loss: 0.6770 - param_value_loss: 0.5708 - param_lower_loss: 0.0741 - param_upper_loss: 0.0321 - param_value_mae: 0.5571 - param_value_acc: 0.6254 - param_lower_mae: 2.3595 - param_lower_acc: 0.4613 - param_upper_mae: 1.2400 - param_upper_acc: 0.3498 - val_loss: 0.6949 - val_param_value_loss: 0.5974 - val_param_lower_loss: 0.0683 - val_param_upper_loss: 0.0292 - val_param_value_mae: 0.5695 - val_param_value_acc: 0.5435 - val_param_lower_mae: 2.2956 - val_param_lower_acc: 0.4348 - val_param_upper_mae: 1.1399 - val_param_upper_acc: 0.4783 - 346ms/epoch - 115ms/step\n",
      "Epoch 20/20\n",
      "3/3 - 0s - loss: 0.6583 - param_value_loss: 0.5545 - param_lower_loss: 0.0724 - param_upper_loss: 0.0314 - param_value_mae: 0.5494 - param_value_acc: 0.6378 - param_lower_mae: 2.1976 - param_lower_acc: 0.4272 - param_upper_mae: 1.1946 - param_upper_acc: 0.3498 - val_loss: 0.6657 - val_param_value_loss: 0.5697 - val_param_lower_loss: 0.0671 - val_param_upper_loss: 0.0289 - val_param_value_mae: 0.5563 - val_param_value_acc: 0.5000 - val_param_lower_mae: 2.1933 - val_param_lower_acc: 0.4130 - val_param_upper_mae: 1.0826 - val_param_upper_acc: 0.4783 - 355ms/epoch - 118ms/step\n",
      "\u001b[1;34;m▪ Processing results ...\u001b[0m\n",
      "2/2 [==============================] - 0s 18ms/step - loss: 0.6657 - param_value_loss: 0.5697 - param_lower_loss: 0.0671 - param_upper_loss: 0.0289 - param_value_mae: 0.5563 - param_value_acc: 0.5000 - param_lower_mae: 2.1933 - param_lower_acc: 0.4130 - param_upper_mae: 1.0826 - param_upper_acc: 0.4783\n",
      "11/11 [==============================] - 0s 11ms/step\n",
      "2/2 [==============================] - 0s 12ms/step\n",
      "3/3 [==============================] - 0s 12ms/step\n",
      "\u001b[1;34;m▪ Saving results ...\u001b[0m\n",
      "\u001b[1;34;m▪ ... done!\u001b[0m\n"
     ]
    }
   ],
   "source": [
    "# Step 3: train network with train dataset\n",
    "if 'T' in step:\n",
    "    my_trn = trn.load(my_args)\n",
    "    my_trn.run()"
   ]
  },
  {
   "cell_type": "code",
   "execution_count": 6,
   "id": "4844e4d9",
   "metadata": {},
   "outputs": [
    {
     "name": "stdout",
     "output_type": "stream",
     "text": [
      "../workspace/format/R_example/test.nt200.aux_data.csv\n",
      "../workspace/estimate/R_example/new.1.aux_data.csv\n",
      "\u001b[1;34;m┃                      ┃\u001b[0m\n",
      "\u001b[1;34;m┗━┳━▪ Estimating... ▪━━┛\u001b[0m\n",
      "\u001b[1;34;m  ┃\u001b[0m\n",
      "\u001b[1;34;m  ┣━━━▪ input:  ../workspace/estimate/R_example\u001b[0m\n",
      "\u001b[1;34;m  ┃             ../workspace/train/R_example\u001b[0m\n",
      "\u001b[1;34;m  ┃\u001b[0m\n",
      "\u001b[1;34;m  ┗━━━▪ output: ../workspace/estimate/R_example\u001b[0m\n",
      "\n",
      "\u001b[1;34;m▪ Loading input ...\u001b[0m\n",
      "\u001b[1;34;m▪ Making estimates ...\u001b[0m\n",
      "1/1 [==============================] - 0s 161ms/step\n",
      "1/1 [==============================] - 0s 22ms/step\n",
      "\u001b[1;34;m... done!\u001b[0m\n"
     ]
    }
   ],
   "source": [
    "# Step 4: estimates for new and test datasets\n",
    "if 'E' in step:\n",
    "    est_prefix = f\"{my_args['est_dir']}/{my_args['proj']}/{my_args['est_prefix']}\"\n",
    "    my_fmt = fmt.load(my_args)\n",
    "    my_fmt.encode_one(tmp_fn=est_prefix, idx=-1, save_phyenc_csv=True)\n",
    "    my_est = est.load(my_args)\n",
    "    my_est.run()"
   ]
  },
  {
   "cell_type": "code",
   "execution_count": 7,
   "id": "734515fe",
   "metadata": {},
   "outputs": [
    {
     "name": "stdout",
     "output_type": "stream",
     "text": [
      "../workspace/estimate/R_example/new.1.aux_data.csv\n",
      "\u001b[1;34;m┃                      ┃\u001b[0m\n",
      "\u001b[1;34;m┗━┳━▪ Plotting...   ▪━━┛\u001b[0m\n",
      "\u001b[1;34;m  ┃\u001b[0m\n",
      "\u001b[1;34;m  ┣━━━▪ input:  ../workspace/format/R_example\u001b[0m\n",
      "\u001b[1;34;m  ┃             ../workspace/train/R_example\u001b[0m\n",
      "\u001b[1;34;m  ┃             ../workspace/estimate/R_example\u001b[0m\n",
      "\u001b[1;34;m  ┃\u001b[0m\n",
      "\u001b[1;34;m  ┗━━━▪ output: ../workspace/plot/R_example\u001b[0m\n",
      "\n",
      "\u001b[1;34;m▪ Loading input ...\u001b[0m\n",
      "\u001b[1;34;m▪ Generating individual plots ...\u001b[0m\n",
      "\u001b[1;34;m▪ Combining plots ...\u001b[0m\n",
      "\u001b[1;34;m... done!\u001b[0m\n"
     ]
    },
    {
     "data": {
      "text/plain": [
       "<Figure size 900x1300 with 0 Axes>"
      ]
     },
     "metadata": {},
     "output_type": "display_data"
    },
    {
     "data": {
      "text/plain": [
       "<Figure size 900x300 with 0 Axes>"
      ]
     },
     "metadata": {},
     "output_type": "display_data"
    },
    {
     "data": {
      "text/plain": [
       "<Figure size 800x800 with 0 Axes>"
      ]
     },
     "metadata": {},
     "output_type": "display_data"
    },
    {
     "data": {
      "text/plain": [
       "<Figure size 600x600 with 0 Axes>"
      ]
     },
     "metadata": {},
     "output_type": "display_data"
    },
    {
     "data": {
      "text/plain": [
       "<Figure size 600x600 with 0 Axes>"
      ]
     },
     "metadata": {},
     "output_type": "display_data"
    },
    {
     "data": {
      "text/plain": [
       "<Figure size 500x500 with 0 Axes>"
      ]
     },
     "metadata": {},
     "output_type": "display_data"
    },
    {
     "data": {
      "text/plain": [
       "<Figure size 600x600 with 0 Axes>"
      ]
     },
     "metadata": {},
     "output_type": "display_data"
    },
    {
     "data": {
      "text/plain": [
       "<Figure size 600x600 with 0 Axes>"
      ]
     },
     "metadata": {},
     "output_type": "display_data"
    },
    {
     "data": {
      "text/plain": [
       "<Figure size 600x600 with 0 Axes>"
      ]
     },
     "metadata": {},
     "output_type": "display_data"
    },
    {
     "data": {
      "text/plain": [
       "<Figure size 600x600 with 0 Axes>"
      ]
     },
     "metadata": {},
     "output_type": "display_data"
    }
   ],
   "source": [
    "# Step 5: plot results\n",
    "if 'P' in step:\n",
    "    my_plt = plt.load(my_args)\n",
    "    my_plt.run()"
   ]
  }
 ],
 "metadata": {
  "kernelspec": {
   "display_name": "Python 3 (ipykernel)",
   "language": "python",
   "name": "python3"
  },
  "language_info": {
   "codemirror_mode": {
    "name": "ipython",
    "version": 3
   },
   "file_extension": ".py",
   "mimetype": "text/x-python",
   "name": "python",
   "nbconvert_exporter": "python",
   "pygments_lexer": "ipython3",
   "version": "3.11.4"
  }
 },
 "nbformat": 4,
 "nbformat_minor": 5
}
